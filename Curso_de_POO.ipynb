{
 "cells": [
  {
   "cell_type": "code",
   "execution_count": 1,
   "metadata": {},
   "outputs": [],
   "source": [
    "#Número perfeito\n",
    "\n",
    "def main():\n",
    "    num= int(input('digite um valor:' ))\n",
    "    return numero_perfeito(num)\n",
    "    \n",
    "def numero_perfeito(num):\n",
    "    '''\n",
    "    num: um número inteiro, \n",
    "    Essa função retorna True se num for um número perfeito e False caso contrário.\n",
    "    '''\n",
    "    soma =0\n",
    "\n",
    "    for i in range(1,num):\n",
    "        if num % i ==0:\n",
    "            soma += i\n",
    "    if num == soma:\n",
    "        return True\n",
    "    else:\n",
    "        return False"
   ]
  },
  {
   "cell_type": "code",
   "execution_count": 2,
   "metadata": {},
   "outputs": [
    {
     "data": {
      "text/plain": [
       "True"
      ]
     },
     "execution_count": 2,
     "metadata": {},
     "output_type": "execute_result"
    }
   ],
   "source": [
    "numero_perfeito(28)"
   ]
  },
  {
   "cell_type": "code",
   "execution_count": 3,
   "metadata": {},
   "outputs": [],
   "source": [
    "def tupla_par(tupla):\n",
    "    \n",
    "    '''\n",
    "    tupla: uma tupla\n",
    "    \n",
    "    retorna: nova tupla formada pelos elementos que possuem índices pares\n",
    "    '''\n",
    "    new_t =()\n",
    "    fim = len(tupla)-1\n",
    "    i=0\n",
    "    for i in range(0,fim):\n",
    "        if i % 2==0:\n",
    "            new_t =tupla[::2]# incrementando numeros com intervalo 2 em 2.\n",
    "        i+=1\n",
    "    return new_t"
   ]
  },
  {
   "cell_type": "code",
   "execution_count": 4,
   "metadata": {},
   "outputs": [
    {
     "data": {
      "text/plain": [
       "('oi', 'estudando')"
      ]
     },
     "execution_count": 4,
     "metadata": {},
     "output_type": "execute_result"
    }
   ],
   "source": [
    "tupla = 'oi','estou','estudando','poo'\n",
    "tupla_par(tupla)"
   ]
  },
  {
   "cell_type": "code",
   "execution_count": 5,
   "metadata": {},
   "outputs": [],
   "source": [
    "def obter_mais_longa_substring(s):\n",
    "    \n",
    "    '''\n",
    "    s: string que será passada\n",
    "    \n",
    "    Essa função retorna a mais longa substring de texto em ordem alfabética.\n",
    "    '''\n",
    "    element_anterior =''\n",
    "    atual_element = ''\n",
    "    maior_sub_string = ''\n",
    "\n",
    "    for element in s:\n",
    "        if element_anterior <= element:\n",
    "            atual_element += element\n",
    "        \n",
    "            #print('elemento_atual: ')\n",
    "            if len(atual_element) > len(maior_sub_string):\n",
    "                maior_sub_string = atual_element\n",
    "              # print('maior string',maior_sub_string )\n",
    "        else: \n",
    "            atual_element = element\n",
    "        element_anterior = element\n",
    "    return maior_sub_string\n",
    "     \n",
    "    \n",
    "    "
   ]
  },
  {
   "cell_type": "code",
   "execution_count": 6,
   "metadata": {},
   "outputs": [
    {
     "data": {
      "text/plain": [
       "'beggh'"
      ]
     },
     "execution_count": 6,
     "metadata": {},
     "output_type": "execute_result"
    }
   ],
   "source": [
    "s = 'azcbobobegghakl'\n",
    "obter_mais_longa_substring(s)"
   ]
  },
  {
   "cell_type": "code",
   "execution_count": 7,
   "metadata": {},
   "outputs": [
    {
     "data": {
      "text/plain": [
       "<__main__.FirstClass at 0x2853f4ad278>"
      ]
     },
     "execution_count": 7,
     "metadata": {},
     "output_type": "execute_result"
    }
   ],
   "source": [
    "# criando uma class \n",
    "\n",
    "class FirstClass():\n",
    "    pass\n",
    "\n",
    "\n",
    "obj = FirstClass() # instanciando classe ao objeto.\n",
    "\n",
    "\n",
    "obj # exibindo o objeto instaciado a classe"
   ]
  },
  {
   "cell_type": "code",
   "execution_count": 8,
   "metadata": {},
   "outputs": [
    {
     "name": "stdout",
     "output_type": "stream",
     "text": [
      "5 4 python\n"
     ]
    }
   ],
   "source": [
    "#setando atributos arbitrariamente\n",
    "obj.x = 5\n",
    "obj.y = 4\n",
    "obj.n = \"python\"\n",
    "\n",
    "print(obj.x,obj.y,obj.n)"
   ]
  },
  {
   "cell_type": "code",
   "execution_count": 9,
   "metadata": {},
   "outputs": [
    {
     "name": "stdout",
     "output_type": "stream",
     "text": [
      "10 20\n"
     ]
    }
   ],
   "source": [
    "# definindo métodos\n",
    "\n",
    "class Ponto:\n",
    "    \n",
    "    def __init__(self,x = 0,y = 0):# os parametros necessarios devem \n",
    "        self.x = x                 # vir antes dos opcionais.\n",
    "        self.y = y\n",
    "    \n",
    "    def resetar(self): # criando método resetar\n",
    "        self.x, self.y = 0, 0\n",
    "        \n",
    "    def mover(self,x,y): # modifica o valor de x e y.\n",
    "        self.x,self.y = x,y\n",
    "               \n",
    "        \n",
    "p = Ponto() # instanciando a class Ponto\n",
    "#print(p.x,p.y)\n",
    "p.resetar() # chamando método resetar\n",
    "p.mover(10,20)\n",
    "print(p.x,p.y)"
   ]
  },
  {
   "cell_type": "code",
   "execution_count": 10,
   "metadata": {},
   "outputs": [
    {
     "name": "stdout",
     "output_type": "stream",
     "text": [
      "10 20\n"
     ]
    }
   ],
   "source": [
    "#chamando a classe depois o método resetar e em seguida passando \n",
    "# o objeto \"p\" com o argumento self.  \n",
    "\n",
    "#Ponto.resetar(p)\n",
    "print(p.x,p.y) # o saída será a mesma do print acima."
   ]
  },
  {
   "cell_type": "code",
   "execution_count": 11,
   "metadata": {},
   "outputs": [],
   "source": [
    "# implementando fila de prioridade.\n",
    "\n",
    "import heapq\n",
    "\n",
    "class FilaDePrioridade:\n",
    "    \n",
    "    def __init__(self):\n",
    "        self.fila = []\n",
    "        self.indice = 0\n",
    "\n",
    "    def inserir(self, item, prioridade):\n",
    "        #como a prioridade do maior para o menor então informamos\n",
    "        #prioriodade como negativo: -prioridade.\n",
    "        heapq.heappush(self.fila,(-prioridade, self.indice, item))\n",
    "        \n",
    "    def remover(self):\n",
    "        return heapq.heappop(self.fila)[-1]   \n",
    "\n",
    "class Item:\n",
    "    def __init__(self,nome):\n",
    "        self.nome = nome\n",
    "        \n",
    "    def __repr__(self):\n",
    "        return self.nome"
   ]
  },
  {
   "cell_type": "code",
   "execution_count": 12,
   "metadata": {},
   "outputs": [
    {
     "name": "stdout",
     "output_type": "stream",
     "text": [
      "joao\n",
      "marcos\n"
     ]
    }
   ],
   "source": [
    "fila = FilaDePrioridade()\n",
    "fila.inserir(Item('marcos'),28)\n",
    "fila.inserir(Item('joao'),30)\n",
    "fila.inserir(Item('maria'),18)\n",
    "\n",
    "print(fila.remover()) # como Joao é mais temo o maior valor \"30\" ele foi o primeiro a ser retirado da lista\n",
    "print(fila.remover())"
   ]
  },
  {
   "cell_type": "code",
   "execution_count": 13,
   "metadata": {},
   "outputs": [],
   "source": [
    "# HERANÇA\n",
    "\n",
    "# toda class herda da super classe \"object\" quando não passamos a super classe\n",
    "# para exemplificar isso informe \"object\" entre () apenas para ilustrar.\n",
    "\n",
    "class minhaClasse(object):\n",
    "    pass\n",
    "\n",
    "class Pessoa:\n",
    "    \n",
    "    def __init__(self,nome,idade):\n",
    "        self.nome = nome\n",
    "        self.idade = idade\n",
    "\n",
    "class PessoaFisica(Pessoa):\n",
    "    \n",
    "    def __init__(self,CPF, nome,idade):\n",
    "        Pessoa.__init__(self, nome, idade)\n",
    "        self.CPF  = CPF   \n",
    "        \n",
    "class PessoaJuridica(Pessoa):\n",
    "    def __init__(self,CNPJ, nome, idade):\n",
    "        Pessoa.__init__(self,nome,idade)\n",
    "        self.CNPJ = CNPJ\n",
    "       "
   ]
  },
  {
   "cell_type": "code",
   "execution_count": 14,
   "metadata": {},
   "outputs": [],
   "source": [
    "#class PessoaFisica\n",
    "\n",
    "pf = PessoaFisica(22222,'joao',12)"
   ]
  },
  {
   "cell_type": "code",
   "execution_count": 15,
   "metadata": {},
   "outputs": [
    {
     "data": {
      "text/plain": [
       "('joao', 22222, 12)"
      ]
     },
     "execution_count": 15,
     "metadata": {},
     "output_type": "execute_result"
    }
   ],
   "source": [
    "pf.nome, pf.CPF, pf.idade"
   ]
  },
  {
   "cell_type": "code",
   "execution_count": 16,
   "metadata": {},
   "outputs": [],
   "source": [
    "#class PessoaJuridica\n",
    "\n",
    "pj = PessoaJuridica(12324345,\"Matos e Arcanjo\", 2)"
   ]
  },
  {
   "cell_type": "code",
   "execution_count": 17,
   "metadata": {},
   "outputs": [
    {
     "data": {
      "text/plain": [
       "(2, 'Matos e Arcanjo', 12324345)"
      ]
     },
     "execution_count": 17,
     "metadata": {},
     "output_type": "execute_result"
    }
   ],
   "source": [
    "pj.idade, pj.nome , pj.CNPJ"
   ]
  },
  {
   "cell_type": "code",
   "execution_count": 18,
   "metadata": {},
   "outputs": [],
   "source": [
    "class Funcionario:\n",
    "    \n",
    "    def __init__(self,nome, salario, cpf):\n",
    "        self.nome = nome\n",
    "        self.salario = salario\n",
    "        self.cpf = cpf\n",
    "        #self.__x =x  # atributo privado.\n",
    "        \n",
    "    def get_bonificacao(self):\n",
    "        return self.salario *0.20\n",
    "\n",
    "class Gerente(Funcionario):\n",
    "    \n",
    "    def __init__(self,nome, salario, cpf, senha):\n",
    "        super().__init__(nome,salario,cpf)# o metodo super possibilita chamar o metodo de super class.\n",
    "        self.senha = senha\n",
    "        \n",
    "        \n",
    "    def get_bonificacao(self):\n",
    "        return super().get_bonificacao() + 1000\n",
    " \n",
    "g = Gerente(\"joao\",3000.00,'334434',3333)\n",
    "f = Funcionario('pedro',1000,'33245')"
   ]
  },
  {
   "cell_type": "code",
   "execution_count": 19,
   "metadata": {},
   "outputs": [
    {
     "name": "stdout",
     "output_type": "stream",
     "text": [
      "joao 3000.0 334434\n"
     ]
    }
   ],
   "source": [
    "print(g.nome, g.salario, g.cpf)"
   ]
  },
  {
   "cell_type": "code",
   "execution_count": 20,
   "metadata": {},
   "outputs": [],
   "source": [
    "#print(g.__x) #erro abaixo acontece porque o atributo \"__x\" nao foi herdado pelo classe gerente."
   ]
  },
  {
   "cell_type": "code",
   "execution_count": 21,
   "metadata": {},
   "outputs": [
    {
     "name": "stdout",
     "output_type": "stream",
     "text": [
      "1600.0\n",
      "200.0\n"
     ]
    }
   ],
   "source": [
    "print(g.get_bonificacao())# bonificação do gerente\n",
    "print(f.get_bonificacao())# bonificação do funcionario"
   ]
  },
  {
   "cell_type": "code",
   "execution_count": 22,
   "metadata": {},
   "outputs": [
    {
     "name": "stdout",
     "output_type": "stream",
     "text": [
      "3333\n"
     ]
    }
   ],
   "source": [
    "print(g.senha) # imprimindo a senha do gerente "
   ]
  },
  {
   "cell_type": "code",
   "execution_count": 23,
   "metadata": {},
   "outputs": [
    {
     "name": "stdout",
     "output_type": "stream",
     "text": [
      "10:03:59\n",
      "10:04:00\n"
     ]
    }
   ],
   "source": [
    "# HERANÇA MULTIPLA\n",
    "\n",
    "#definindo a class Relógio.\n",
    "\n",
    "class Relogio:\n",
    "    \n",
    "    def __init__(self, hora= 0, min= 0, seg= 0,*args,**kwargs):\n",
    "        super(Relogio,self).__init__(*args, **kwargs)\n",
    "        self.hora = hora\n",
    "        self.min = min\n",
    "        self.seg = seg\n",
    "        \n",
    "        # utilizamos o argumento *args e ,**kwargs quando nao sabemos ao\n",
    "        # certo o numero de argumentos, e nao sabemos se vamos receber \n",
    "        # lista ou dicionário.\n",
    "        # o comando *args e ,**kwargs para dicionário \n",
    "        \n",
    "    def ajustar_hora(self, hora, min, seg=0):\n",
    "        self.hora = hora\n",
    "        self.min = min\n",
    "        self.seg = seg\n",
    "        \n",
    "        \n",
    "    def __str__(self):\n",
    "        return \"{0:02d}:{1:02d}:{2:02d}\".format(self.hora, \n",
    "                                                self.min, \n",
    "                                                self.seg)\n",
    "    \n",
    "    def tick(self):\n",
    "        if self.seg == 59:\n",
    "            self.seg = 0\n",
    "            if self.min == 59:\n",
    "                self.min = 0\n",
    "                if self.hora == 23:\n",
    "                    self.hora = 0\n",
    "                else:\n",
    "                    self.hora =+ 1\n",
    "            else:\n",
    "                self.min +=1\n",
    "        \n",
    "        else:\n",
    "            self.seg +=1\n",
    "            \n",
    "            \n",
    "rel = Relogio(10,3,59) # instanciando método Relogio\n",
    "print(rel) #imprimindo relogio\n",
    "rel.tick() #chamando o método tick\n",
    "print(rel) #imprimindo novamente o relogio, após o método tick.\n"
   ]
  },
  {
   "cell_type": "code",
   "execution_count": 24,
   "metadata": {},
   "outputs": [],
   "source": [
    "# HERANÇA MULTIPLA\n",
    "\n",
    "#definindo a class calendário.\n",
    "\n",
    "class Calendario:\n",
    "    \n",
    "    meses=  (31,28,31,30,31,30,31,30,30,31,30,31)# numero de dia de cada mês\n",
    "    \n",
    "    def __init__(self, dia, mes, ano,*args,**kwargs):\n",
    "        super(Calendario, self).__init__(*args, **kwargs)\n",
    "        self.dia = dia\n",
    "        self.mes = mes\n",
    "        self.ano = ano\n",
    "        \n",
    "    def ajustar_data(self):\n",
    "        self.dia = dia\n",
    "        self.mes = mes\n",
    "        self.ano = ano\n",
    "        \n",
    "    def __str__(self):# formatação do calendário\n",
    "        return \"{0:02d}/{1:02d}/{2:04d}\".format(self.dia,\n",
    "                                                self.mes,\n",
    "                                                self.ano) \n",
    "    def avancar(self):\n",
    "        dia_max = Calendario.meses[self.mes - 1]\n",
    "        \n",
    "        if self.dia == dia_max:\n",
    "            self.dia = 1\n",
    "            if self.mes == 12:\n",
    "                self.mes = 1\n",
    "                self.ano += 1\n",
    "            else:\n",
    "                self.mes += 1\n",
    "        else:\n",
    "            self.dia += 1\n",
    "            \n",
    "#cal = Calendario(31,1,2016) # instanciando o método Calendario\n",
    "#print(cal) #imprimindo o calendario\n",
    "#cal.avancar() #chamando o método avançar.\n",
    "#print(cal)  #imprimindo o calendario, após ação do método avançar  "
   ]
  },
  {
   "cell_type": "code",
   "execution_count": 25,
   "metadata": {},
   "outputs": [
    {
     "name": "stdout",
     "output_type": "stream",
     "text": [
      "23:59:59 , 31/12/2015\n",
      "00:00:00 , 01/01/2016\n",
      "[<class '__main__.CalendarioRelogio'>, <class '__main__.Relogio'>, <class '__main__.Calendario'>, <class 'object'>]\n"
     ]
    }
   ],
   "source": [
    "# HERANÇA MULTIPLA - aplicando a herança multipla\n",
    "\n",
    "# Criando uma subclasse herdando das classes Relogio e calendário.\n",
    "\n",
    "class CalendarioRelogio(Relogio,Calendario):\n",
    "    \n",
    "    def __init__(self, hora, min, seg, dia, mes, ano):\n",
    "        super(CalendarioRelogio,self).__init__(hora= hora, min=min, seg=seg, dia= dia, mes= mes, ano= ano)\n",
    "       \n",
    "    def __str__(self):# formatação do calendário e relógio\n",
    "        return Relogio.__str__(self) + ' , ' + Calendario.__str__(self)\n",
    "    \n",
    "    def tick(self):\n",
    "        hora_anterior = self.hora # hora atual\n",
    "        Relogio.tick(self)\n",
    "        if(self.hora < hora_anterior):\n",
    "            self.avancar()\n",
    "    \n",
    "cal_rel = CalendarioRelogio(23,59,59, 31,12,2015)   # instanciando o método CalendarioRelogio\n",
    "print(cal_rel) # imprimindo  cal_rel\n",
    "cal_rel.tick() # chamando o método tick\n",
    "print(cal_rel) # imprimindo cal_rel novamente, após a modificação do método tick\n",
    "\n",
    "print(CalendarioRelogio.mro())"
   ]
  },
  {
   "cell_type": "code",
   "execution_count": 26,
   "metadata": {},
   "outputs": [
    {
     "data": {
      "text/plain": [
       "(__main__.Veiculo, object)"
      ]
     },
     "execution_count": 26,
     "metadata": {},
     "output_type": "execute_result"
    }
   ],
   "source": [
    "# MRO  - Method Resolution Order (MRO)\n",
    "\n",
    "#Ordem de resolução de método (MRO) é a ordem na qual o Python procura um método em uma hierarquia de classes.\n",
    "#Especialmente, ele desempenha um papel vital no contexto da herança múltipla,\n",
    "#pois um único método pode ser encontrado em várias superclasses.\n",
    "\n",
    "#quando a função \"super()\" é usada a método \"mro()\" e usado automáticamente\n",
    " \n",
    "#Para entender o conceito de MRO e sua necessidade, vamos examinar alguns casos.\n",
    "\n",
    "class Veiculo():\n",
    "    pass\n",
    "\n",
    "class Carro(Veiculo):\n",
    "    pass\n",
    "\n",
    "class Trem(Veiculo):\n",
    "    pass\n",
    "\n",
    "Veiculo.__mro__ # busca a ordem da hierarquia de classes.\n",
    "#primeiro exibiu a classe Veiculo e posteriormente a classe Object.\n"
   ]
  },
  {
   "cell_type": "code",
   "execution_count": 27,
   "metadata": {},
   "outputs": [
    {
     "ename": "SyntaxError",
     "evalue": "invalid syntax (<ipython-input-27-095b7df72857>, line 1)",
     "output_type": "error",
     "traceback": [
      "\u001b[1;36m  File \u001b[1;32m\"<ipython-input-27-095b7df72857>\"\u001b[1;36m, line \u001b[1;32m1\u001b[0m\n\u001b[1;33m    Carro.__mro__ busca a ordem da hierarquia de classes.\u001b[0m\n\u001b[1;37m                      ^\u001b[0m\n\u001b[1;31mSyntaxError\u001b[0m\u001b[1;31m:\u001b[0m invalid syntax\n"
     ]
    }
   ],
   "source": [
    "Carro.__mro__ busca a ordem da hierarquia de classes.\n",
    "#primeiro exibiu a classe Carro em seguida Veiculo e posteriormente a classe Object.\n",
    "# lembrando que Veiculo é super classe de Carro."
   ]
  },
  {
   "cell_type": "code",
   "execution_count": null,
   "metadata": {},
   "outputs": [],
   "source": [
    "class CarroTrem(Carro, Trem):\n",
    "    pass\n",
    "\n",
    "CarroTrem.__mro__ #primeiro exibiu a classe CarroTrem em seguida Carro e \n",
    "#Trem e então a super classe Veiculo e posteriormente a classe Object.\n",
    "# lembrando que Veiculo é super classe de Carro.\n",
    "\n"
   ]
  },
  {
   "cell_type": "code",
   "execution_count": null,
   "metadata": {},
   "outputs": [],
   "source": [
    "# Classes Mixin\n",
    "\n",
    "# O Python suporta um tipo simples de herança múltipla que permite a criação\n",
    "# de Mixins. Mixins são um tipo de classe usada para \"misturar\" \n",
    "# propriedades e métodos extras em uma classe. Isso permite criar\n",
    "# classes em um estilo de composição.\n",
    "\n",
    "# a hierarquia de classes é definida da direita para a esquerda; portanto,\n",
    "# neste caso, a Mixin2classe é a classe base,\n",
    "# estendida por Mixin1e finalmente por BaseClass. Isso geralmente é bom\n",
    "# porque muitas vezes as classes mixin não substituem os métodos umas\n",
    "# das outras ou da classe base. Mas se você substituir métodosou propriedades\n",
    "# em seus mixins, isso poderá levar a resultados inesperados, porque a\n",
    "# prioridade de como os métodos são resolvidos é da esquerda para\n",
    "# a direita.\n",
    "\n",
    "# Quando utilizar?\n",
    "# 1- Se voce desejar reutilizar uma determinada feature em varias classes \n",
    "# diferentes.\n",
    "\n",
    "# 2- Para melhorar a modularidade .\n",
    "\n",
    "# Mixins é uma forma controlada de adicionar funcionalidades as classes.\n",
    "\n",
    "# Propriedades:\n",
    "\n",
    "# 1-não deve ser extendida.\n",
    "# 2-não deve ser instanciada. \n",
    "\n",
    "# Em Python, o conceito de mixins é implementado \n",
    "# utilizando herança múltipla.\n",
    "\n",
    "class Livro(object):\n",
    "    def __init__(self, nome, conteudo):\n",
    "        self.nome = nome\n",
    "        self.conteudo= conteudo\n",
    "        \n",
    "class LivroHTMLMixin(object):\n",
    "    def renderizar(self):\n",
    "        return ('<html><title>%s</title><body>%s</body></html>') % (\n",
    "            self.nome,self.conteudo)\n",
    "    \n",
    "class LivroHTML(Livro, LivroHTMLMixin):\n",
    "    pass\n",
    "    \n",
    "livro_html = LivroHTML('algum livro', 'blablabla')\n",
    "print(livro_html.renderizar())\n",
    "\n"
   ]
  },
  {
   "cell_type": "code",
   "execution_count": null,
   "metadata": {},
   "outputs": [],
   "source": [
    "# Polimorfismo\n",
    "import math\n",
    "\n",
    "class Forma():\n",
    "    \n",
    "    def __init__(self):\n",
    "        print('construtor da forma')\n",
    "    \n",
    "    def area(self):\n",
    "        print('Area da forma')\n",
    "        \n",
    "    def perimetro(self):\n",
    "        print('perimetro da forma')\n",
    "    \n",
    "    def descricao(self):\n",
    "        print('descrição da forma')\n",
    "        \n",
    "        \n",
    "  \n",
    "        \n",
    "class Quadrado(Forma):\n",
    "    \n",
    "    def __init__(self,lado):\n",
    "        self.lado = lado\n",
    "        \n",
    "    def area(self):\n",
    "        return self.lado **2\n",
    "    \n",
    "    def perimetro(self):\n",
    "        return self.lado * 4\n",
    "    \n",
    "class Circulo(Forma):\n",
    "    \n",
    "    def __init__(self,raio):\n",
    "        self.raio =raio\n",
    "    \n",
    "    def area(self):\n",
    "        return math.pi * self.raio ** 2\n",
    "        \n",
    "    def perimetro(self):\n",
    "        return 2* math.pi * self.raio  \n",
    "    \n",
    "    def descricao(self):\n",
    "        print('descrição da Circulo')"
   ]
  },
  {
   "cell_type": "code",
   "execution_count": null,
   "metadata": {},
   "outputs": [],
   "source": [
    "quad = Quadrado(2)\n",
    "print('Area: %d' % quad.area())\n",
    "print('Perimetro: %d' %quad.perimetro())"
   ]
  },
  {
   "cell_type": "code",
   "execution_count": null,
   "metadata": {},
   "outputs": [],
   "source": [
    "cir = Circulo(3)\n",
    "print('Area: %f' % cir.area())\n",
    "print('Perimetro: %f' %cir.perimetro())\n",
    "cir.descricao()"
   ]
  },
  {
   "cell_type": "code",
   "execution_count": null,
   "metadata": {},
   "outputs": [],
   "source": [
    "class AudioFile:\n",
    "    \n",
    "    def __init__(self, filename):\n",
    "        \n",
    "        if not filename.endswith(self.ext):\n",
    "            raise Exception('formato invalido')\n",
    "            \n",
    "        self.filename = filename\n",
    "        \n",
    "                \n",
    "class MP3File(AudioFile):\n",
    "    \n",
    "    ext = 'mp3'\n",
    "    def play(self):\n",
    "        print('tocando arquivo mp3')\n",
    "        \n",
    "        \n",
    "class WavFile(AudioFile):\n",
    "    \n",
    "    ext = 'wav'\n",
    "    def play(self):\n",
    "        print('tocando arquivo wav')\n",
    "        \n",
    "class OggFile(AudioFile):\n",
    "    \n",
    "    ext = 'ogg'\n",
    "    def play(self):\n",
    "        print('tocando arquivo ogg')"
   ]
  },
  {
   "cell_type": "code",
   "execution_count": null,
   "metadata": {},
   "outputs": [],
   "source": [
    "mp3 = MP3File('musica.mp3') #instanciando a classe\n",
    "mp3.play() #chamando o método play()"
   ]
  },
  {
   "cell_type": "code",
   "execution_count": null,
   "metadata": {},
   "outputs": [],
   "source": [
    "wav = WavFile('musica.wav') #instanciando a classe\n",
    "wav.play() #chamando o método play()"
   ]
  },
  {
   "cell_type": "code",
   "execution_count": null,
   "metadata": {
    "scrolled": true
   },
   "outputs": [],
   "source": [
    "ogg = OggFile('musica.ogg') #instanciando a classe\n",
    "ogg.play()#chamando o método play()"
   ]
  },
  {
   "cell_type": "code",
   "execution_count": null,
   "metadata": {},
   "outputs": [],
   "source": [
    "# testando a exceção da classe AudioFile\n",
    "mp3_falso = MP3File('musica.ogg') \n",
    "mp3_falso.play()\n",
    "# como a extensão nao foi encontrado deu erro com a mensagem \"formato invalido\""
   ]
  },
  {
   "cell_type": "code",
   "execution_count": null,
   "metadata": {},
   "outputs": [],
   "source": [
    "# Duck typing\n",
    "conceito:\n",
    "        \n",
    "'''\n",
    "O que é?\n",
    "Duck typing é um estilo de codificação de linguagens dinamicamente tipadas onde o tipo de uma variável não importa,\n",
    "contanto que seu comportamento seja o desejado. O nome \"tipagem de pato\" vem da expressão \"se anda como pato, nada \n",
    "como um pato e faz quack como um pato, então provavelmente é um pato\".\n",
    "\n",
    "Quando criamos uma função ou um método em Python o tipo do parâmetro não é a parte importante, mas o que realmente\n",
    "importa é se o mesmo vai possuir os métodos e atributos esperados:\n",
    "\n",
    "'''\n",
    "\n",
    "# Programe para interface não para uma implementação.\n",
    "\n",
    "class Livro():\n",
    "    \n",
    "    def __init__(self, titulo, lancamento, diretor):\n",
    "        self.titulo = titulo\n",
    "        self.lancamento = lancamento\n",
    "        self.diretor = diretor\n",
    "        \n",
    "class Filme():\n",
    "    \n",
    "    def __init__(self, titulo, lancamento, diretor):\n",
    "        self.titulo = titulo\n",
    "        self.lancamento = lancamento\n",
    "        self.diretor = diretor\n",
    "        \n",
    "    def imprimir(midia):\n",
    "        print(midia.titulo, midia.lancamento)"
   ]
  },
  {
   "cell_type": "code",
   "execution_count": null,
   "metadata": {},
   "outputs": [],
   "source": [
    "livro = Filme('senhor os aneis',2001,'JJT')\n",
    "livro.imprimir()"
   ]
  },
  {
   "cell_type": "code",
   "execution_count": null,
   "metadata": {},
   "outputs": [],
   "source": [
    "class Pato:\n",
    "    def quack(self):\n",
    "        print('quack, quack!')\n",
    "        \n",
    "class Pessoa:\n",
    "    def quack(self):\n",
    "        print('QUACK!')"
   ]
  },
  {
   "cell_type": "code",
   "execution_count": null,
   "metadata": {},
   "outputs": [],
   "source": [
    "# o função na_floresta nao pertence as classes Pessoa E Pato, mas ainda \n",
    "# assim podem ser utilizados atraves do duck typing.\n",
    "def na_floresta(obj): \n",
    "    obj.quack()\n",
    "    \n",
    "na_floresta(Pessoa()) # função na_floresta() recebe o método Pessoa\n",
    "na_floresta(Pato()) # função na_floresta() recebe o método Pato"
   ]
  },
  {
   "cell_type": "code",
   "execution_count": null,
   "metadata": {},
   "outputs": [],
   "source": [
    "class Pato:\n",
    "\n",
    "    def quack(self):\n",
    "        print('Quack, quack')\n",
    "\n",
    "\n",
    "class Pessoa:\n",
    "\n",
    "    def quack(self):\n",
    "        print('Eu faço quack igual a um pato')"
   ]
  },
  {
   "cell_type": "code",
   "execution_count": null,
   "metadata": {},
   "outputs": [],
   "source": [
    "'''\n",
    "EAFP - Easier to ask for forgiveness than permission\n",
    "É pythonico\n",
    "'''\n",
    "def fazer_quack(obj):\n",
    "\n",
    "    try:\n",
    "        obj.quack()\n",
    "    except AttributeError as e:\n",
    "        print(e)\n",
    "\n",
    "\n",
    "pato = Pato()\n",
    "fazer_quack(pato)\n",
    "\n",
    "pessoa = Pessoa()\n",
    "fazer_quack(pessoa)"
   ]
  },
  {
   "cell_type": "code",
   "execution_count": null,
   "metadata": {},
   "outputs": [],
   "source": [
    "# Sobrecarga de operadores\n",
    "\n",
    "'''\n",
    "No Python, o comportamento dos operadores é\n",
    "definido por métodos especiais, porém tais métodos\n",
    "só podem ser alterados nas classes abertas.\n",
    "● Por convenção, os métodos especiais têm nomes que\n",
    "começam e terminam com “__”.\n",
    "\n",
    "fonte: http://www.inf.ufes.br/~vitorsouza/wp-content/uploads/teaching-lp-20132-seminario-python.pdf\n",
    "'''\n",
    "\n",
    "class Operador():\n",
    "    \n",
    "    def __init__(self,num):\n",
    "        self.num = num\n",
    "    \n",
    "    def __add__(self, op):\n",
    "        return self.num - op.num\n",
    "    \n",
    "    def __mul__(self, op):\n",
    "        return self.num **op.num\n",
    "    \n",
    "    def __sub__(self,op):\n",
    "        return self.num + op.num"
   ]
  },
  {
   "cell_type": "code",
   "execution_count": null,
   "metadata": {},
   "outputs": [],
   "source": [
    "op = Operador(10) #instaciando objeto\n",
    "op2 = Operador(2) #instaciando objeto\n",
    "\n",
    "print(op * op2) # realizando um multiplicação entre os objetos instanciados.\n",
    "print(op - op2) # realizando um subtração entre os objetos instanciados."
   ]
  },
  {
   "cell_type": "code",
   "execution_count": null,
   "metadata": {},
   "outputs": [],
   "source": [
    "# Encapsulamneto de classe\n",
    "\n",
    "class P():\n",
    "    \n",
    "    def __init__(self, x):\n",
    "        self.x = x\n",
    "\n",
    "    @property # método Get\n",
    "    def x(self):\n",
    "        return self._x\n",
    "    \n",
    "    @x.setter\n",
    "    def x(self,x): # método Set\n",
    "        if x > 0:\n",
    "            self._x = x\n",
    "  \n",
    "p = P(10)# instaciando objeto\n",
    "print(p.x) #imprimindo o valor do objeto\n",
    "\n",
    "p.x = -1 # passando um novo valor para o objeto\n",
    "print(p.x) # imprimindo o novo valor.... \"note e n valor nao foi modiifcado\n",
    "# para -1 por este abributo está como privado.\"\n",
    "\n"
   ]
  },
  {
   "cell_type": "code",
   "execution_count": null,
   "metadata": {},
   "outputs": [],
   "source": [
    "# Abributos protegidos\n",
    "\n",
    "class Protegido:\n",
    "    \n",
    "    def __init__(self,x):\n",
    "        self.__x = x # atributos portegidos são iniciados \n",
    "                     # com 2 undercores \"__\".\n",
    "\n",
    "obj = Protegido(10) # instanciando o objeto.\n",
    "obj__x # tentando acessar atributo \"x\".\n",
    "\n",
    "# o erro ocorre porque o atributo é protegido. "
   ]
  },
  {
   "cell_type": "code",
   "execution_count": null,
   "metadata": {},
   "outputs": [],
   "source": [
    "# lista os métodos do \"obj\".\n",
    "print(dir(obj))\n",
    "\n",
    "# note que o python protegeu o objeto atraves\n",
    "# da método \"_Protegido__x\" impresso abaixo.\n",
    "\n",
    "#sendo assim poderemos utiliza-lo para acesso o atributo '__x'"
   ]
  },
  {
   "cell_type": "code",
   "execution_count": null,
   "metadata": {},
   "outputs": [],
   "source": [
    "# Acessando o atributo \"__x\", mas assim\n",
    "# vc estará violando o encapsulamento da \n",
    "# classe de uma maneira intencional\n",
    "# o python desconfigurou o '__x\" e transformou em \"_Protegido__x\" \n",
    "# para protege-lo.\n",
    "obj._Protegido__x \n"
   ]
  },
  {
   "cell_type": "code",
   "execution_count": null,
   "metadata": {},
   "outputs": [],
   "source": [
    "# Definindo uma interface ou classe abstrata\n",
    "\n",
    "# obs: Classes abstrata nao podem ser instanciadas.\n",
    "# As classes abtratas devem ser utilizadas como\n",
    "# \"classe base\" par outras classes.\n",
    "\n",
    "\n",
    "from abc import ABCMeta, abstractmethod\n",
    "\n",
    "class MinhaClasseAbstrata(metaclass=ABCMeta):\n",
    "    \n",
    "    @abstractmethod\n",
    "    def fazer_algo(self):\n",
    "        pass\n",
    "        \n",
    "    @abstractmethod\n",
    "    def fazer_algo_novamente(self, o_que_fazer):\n",
    "        pass\n",
    "    \n",
    "obj = MinhaClasseAbstrata() #instanciando a classe abstrata\n",
    "# o erro abaixo ocorreu porque não podemos\n",
    "#instanciar a classe abtratra diretamente."
   ]
  },
  {
   "cell_type": "code",
   "execution_count": null,
   "metadata": {},
   "outputs": [],
   "source": [
    "from abc import ABCMeta, abstractmethod\n",
    "\n",
    "class Animal(metaclass=ABCMeta): # classe abstrata.(Pai)\n",
    "    \n",
    "    @abstractmethod       \n",
    "    def dizer_algo(self):\n",
    "        return \"eu sou um animal\"\n",
    "    \n",
    "class Cachorro(Animal):       # classe filha\n",
    "    def dizer_algo(self):\n",
    "        s= super(Cachorro,self).dizer_algo()\n",
    "        return \"%s - %s\" % (s,\"AU AU!\")\n",
    "    \n",
    "c = Cachorro() # instanciando a classe filha\n",
    "print(c.dizer_algo())# imprimindo a chamada do método \"dizer_algo\"\n"
   ]
  },
  {
   "cell_type": "code",
   "execution_count": null,
   "metadata": {},
   "outputs": [],
   "source": [
    "# Delegar abributos\n",
    "\n",
    "class A:\n",
    "    \n",
    "    def fazer_algo(self):\n",
    "        pass\n",
    "    \n",
    "    def outro_metodo(self):\n",
    "        pass\n",
    "    \n",
    "    def algum_metodo(self, nome):\n",
    "        print(nome)\n",
    "\n",
    "class B:\n",
    "    \n",
    "    def __init__(self):\n",
    "        # delega para self.a\n",
    "        self.a = A() # instanciando classe A\n",
    "    \n",
    "    def fazer_algo(self):\n",
    "       # delega para self.a\n",
    "        return self.a.outro_metodo()\n",
    "    \n",
    "    def outro_metodo(self):\n",
    "         # delega para self.a\n",
    "        return self.a.outro_metodo()\n",
    "    \n",
    "# casos haja muitos métodos a delegar uma abordagem alternativa \n",
    "# seria utilizar o método __getattr__\n",
    "\n",
    "    \n",
    "    def __getattr__(self, nome): # este método é chamado quando \n",
    "                                 # chamar metodos nao definidos na classe B\n",
    "        return getattr(self.a, nome)\n",
    "    \n",
    "b = B()# instanciando a classe\n",
    "b.fazer_algo() #chama o metodo fazer_algo da class B.\n",
    "\n",
    "b.algum_metodo('python') # chama class B.__getattr__('algum_metodo') \n",
    "                         # e delega para classe A e o metodo .algum_metodo()"
   ]
  },
  {
   "cell_type": "code",
   "execution_count": null,
   "metadata": {},
   "outputs": [],
   "source": [
    "# Economizando memória ao utilizar muitas instâncias\n",
    "\n",
    "# Utilize o método __slots__ ele compacta os atributos como\n",
    "# array pequeno de tamanho fixo (semelhante a uma tupla e uma lista)\n",
    "# e nao como dicionário.\n",
    "\n",
    "# Efeito colateral --> não será mais possivel acrescentar\n",
    "# novos atributos as instancias ficando restridos aos atributos\n",
    "# listados no espeficicador __slots__\n",
    "\n",
    "class Pessoa:\n",
    "    __slots__ = ['nome','idade','peso']\n",
    "    def __init__(self, nome, idade, peso):\n",
    "        self.nome = nome\n",
    "        self.idade = idade\n",
    "        self.peso = peso"
   ]
  },
  {
   "cell_type": "code",
   "execution_count": null,
   "metadata": {},
   "outputs": [],
   "source": [
    "# Diferença entre classmethod e staticmethod\n",
    "\n",
    "\n",
    "# A function @staticmethod não é nada mais que uma function\n",
    "# definida dentro de uma class. É chamado sem instanciar a\n",
    "# class primeiro. não pode ser herdada.\n",
    "\n",
    "# A function @classmethod também pode ser chamada sem instanciar\n",
    "# a class, mas sua definição segue Subclass, não Parent class, via herança.\n",
    "#Isso porque o primeiro argumento para a function @classmethod sempre deve ser cls (class).\n",
    "\n",
    "class Data:\n",
    "\n",
    "    def __init__(self, dia, mes, ano ):\n",
    "        self.dia = dia\n",
    "        self.mes = mes\n",
    "        self.ano = ano\n",
    "        print(self)\n",
    "\n",
    "    @classmethod\n",
    "    def de_string(cls, data_string ): #10-10-2016\n",
    "        dia, mes, ano = map(int, data_string.split('-'))\n",
    "        data = cls(dia, mes, ano)\n",
    "        return data\n",
    "    \n",
    "    @staticmethod\n",
    "    def is_date_valid(data_string): \n",
    "        dia, mes, ano = map(int, data_string.split('-'))  # descompacta a lista e converte o numero\n",
    "                                                          #para inteiro, utiliza o .split() formata a data\n",
    "        return dia <= 31 and mes <= 12 and ano <= 2020\n",
    "\n",
    "    \n",
    "data = Data(10, 10, 10) #  instanciando a classe Data,   utilizando a referente do self. (Class Data)  \n",
    "data1 = Data.de_string(\"10-10-2016\") #mesmo utilizando o método \".de_string()\" é chamado a referente do self. (Class Data)     \n",
    "print(data1)\n"
   ]
  },
  {
   "cell_type": "code",
   "execution_count": null,
   "metadata": {},
   "outputs": [],
   "source": [
    "# staticmethod nao tem ligação com a classe, nem com objeto.\n",
    "# ele tem comportamento de função dentro de uma classe.\n",
    "vdd = Data.is_date_valid(\"40-10-2016\")# instanciando o staticmethod\n",
    "print(vdd) # imprimi falso por o staticmethod nao tem ligação com a classe.\n",
    "\n"
   ]
  },
  {
   "cell_type": "code",
   "execution_count": 37,
   "metadata": {},
   "outputs": [
    {
     "name": "stdout",
     "output_type": "stream",
     "text": [
      "pedro\n"
     ]
    }
   ],
   "source": [
    "# Definindo mais de um construtor para uma classe\n",
    "\n",
    "class Pessoa:\n",
    "    \n",
    "    def __init__(self, nome):\n",
    "        self.nome = nome\n",
    "    \n",
    "    #construtor alternativo\n",
    "    @classmethod\n",
    "    def outro_construtor(cls,nome):\n",
    "        return cls(nome)\n",
    "''' \n",
    "instanciando a classe.\n",
    "p =  Pessoa('marcos')\n",
    "print(p.nome)\n",
    "'''\n",
    "    \n",
    "# instanciando método \"outro_construtor\" .   \n",
    "p = Pessoa.outro_construtor('pedro')\n",
    "print(p.nome)  "
   ]
  },
  {
   "cell_type": "code",
   "execution_count": 40,
   "metadata": {},
   "outputs": [
    {
     "name": "stdout",
     "output_type": "stream",
     "text": [
      "marcos 28\n"
     ]
    }
   ],
   "source": [
    "# Criando uma instancia sem chamar o __init__\n",
    "\n",
    "class Pessoa:\n",
    "    def __init__(self,nome,idade):\n",
    "        self.nome = nome\n",
    "        self.idade = idade\n",
    "        \n",
    "# chamando o __new__ ao inves do __init__   \n",
    "#este caso deveremos passar os dados manualmente.\n",
    "\n",
    "p = Pessoa.__new__(Pessoa) # instaciando a classe\n",
    "dados = {'nome': 'marcos','idade':28}  # passando os dados\n",
    "for key, value in dados.items(): # iterando sobre o dicionario \n",
    "    setattr(p,key,value) # setando os parametros\n",
    "print(p.nome, p.idade) #imprimindo os atributos."
   ]
  },
  {
   "cell_type": "code",
   "execution_count": 53,
   "metadata": {},
   "outputs": [
    {
     "name": "stdout",
     "output_type": "stream",
     "text": [
      "[20]\n"
     ]
    }
   ],
   "source": [
    "# introdução a exceções \n",
    "\n",
    "class SomentePares(list):\n",
    "    \n",
    "    def append(self, inteiro):\n",
    "        \n",
    "        if not isinstance(inteiro,int): # testa se o numero é inteiro\n",
    "            raise TypeError('Somente inteiros')\n",
    "        if inteiro % 2: # teste se o numero é par\n",
    "            raise ValueError('somente Pares')\n",
    "    \n",
    "        super().append(inteiro)\n",
    "        \n",
    "sp = SomentePares()\n",
    "sp.append(20)\n",
    "print(sp) "
   ]
  },
  {
   "cell_type": "code",
   "execution_count": 59,
   "metadata": {},
   "outputs": [
    {
     "name": "stdout",
     "output_type": "stream",
     "text": [
      "POO com Python\n"
     ]
    },
    {
     "ename": "Exception",
     "evalue": "lancando exceção",
     "output_type": "error",
     "traceback": [
      "\u001b[1;31m---------------------------------------------------------------------------\u001b[0m",
      "\u001b[1;31mException\u001b[0m                                 Traceback (most recent call last)",
      "\u001b[1;32m<ipython-input-59-c03ccb5bece9>\u001b[0m in \u001b[0;36m<module>\u001b[1;34m\u001b[0m\n\u001b[0;32m      8\u001b[0m \u001b[1;31m# nunca é excutado.\u001b[0m\u001b[1;33m\u001b[0m\u001b[1;33m\u001b[0m\u001b[1;33m\u001b[0m\u001b[0m\n\u001b[0;32m      9\u001b[0m \u001b[1;33m\u001b[0m\u001b[0m\n\u001b[1;32m---> 10\u001b[1;33m \u001b[0malgo\u001b[0m\u001b[1;33m(\u001b[0m\u001b[1;33m)\u001b[0m\u001b[1;33m\u001b[0m\u001b[1;33m\u001b[0m\u001b[0m\n\u001b[0m",
      "\u001b[1;32m<ipython-input-59-c03ccb5bece9>\u001b[0m in \u001b[0;36malgo\u001b[1;34m()\u001b[0m\n\u001b[0;32m      1\u001b[0m \u001b[1;32mdef\u001b[0m \u001b[0malgo\u001b[0m\u001b[1;33m(\u001b[0m\u001b[1;33m)\u001b[0m\u001b[1;33m:\u001b[0m\u001b[1;33m\u001b[0m\u001b[1;33m\u001b[0m\u001b[0m\n\u001b[0;32m      2\u001b[0m     \u001b[0mprint\u001b[0m\u001b[1;33m(\u001b[0m\u001b[1;34m'POO com Python'\u001b[0m\u001b[1;33m)\u001b[0m\u001b[1;33m\u001b[0m\u001b[1;33m\u001b[0m\u001b[0m\n\u001b[1;32m----> 3\u001b[1;33m     \u001b[1;32mraise\u001b[0m \u001b[0mException\u001b[0m \u001b[1;33m(\u001b[0m\u001b[1;34m'lancando exceção'\u001b[0m\u001b[1;33m)\u001b[0m\u001b[1;33m\u001b[0m\u001b[1;33m\u001b[0m\u001b[0m\n\u001b[0m\u001b[0;32m      4\u001b[0m     \u001b[0mprint\u001b[0m\u001b[1;33m(\u001b[0m\u001b[1;34m'depois da exceção'\u001b[0m\u001b[1;33m)\u001b[0m\u001b[1;33m\u001b[0m\u001b[1;33m\u001b[0m\u001b[0m\n\u001b[0;32m      5\u001b[0m     \u001b[1;32mreturn\u001b[0m \u001b[1;34m'sucesso'\u001b[0m\u001b[1;33m\u001b[0m\u001b[1;33m\u001b[0m\u001b[0m\n",
      "\u001b[1;31mException\u001b[0m: lancando exceção"
     ]
    }
   ],
   "source": [
    "def algo():\n",
    "    print('POO com Python')\n",
    "    raise Exception ('lancando exceção')\n",
    "    print('depois da exceção')\n",
    "    return 'sucesso'\n",
    "# ao chamar a função algo() ela imprimi apenas o primeiro print,\n",
    "# pois logo em seguida é chamado o raise, entao o que vem após o raise\n",
    "# nunca é excutado.\n",
    "\n",
    "algo()"
   ]
  },
  {
   "cell_type": "code",
   "execution_count": 65,
   "metadata": {},
   "outputs": [
    {
     "name": "stdout",
     "output_type": "stream",
     "text": [
      "antes da chamada da função\n"
     ]
    },
    {
     "ename": "Exception",
     "evalue": "exceção em algo2",
     "output_type": "error",
     "traceback": [
      "\u001b[1;31m---------------------------------------------------------------------------\u001b[0m",
      "\u001b[1;31mException\u001b[0m                                 Traceback (most recent call last)",
      "\u001b[1;32m<ipython-input-65-71d82e0c9b70>\u001b[0m in \u001b[0;36m<module>\u001b[1;34m\u001b[0m\n\u001b[0;32m     12\u001b[0m \u001b[1;31m# exceção que faz com que a execução do programa pare antes de chamar\u001b[0m\u001b[1;33m\u001b[0m\u001b[1;33m\u001b[0m\u001b[1;33m\u001b[0m\u001b[0m\n\u001b[0;32m     13\u001b[0m \u001b[1;31m# o proximo print() --> print('depois da chamada da função')\u001b[0m\u001b[1;33m\u001b[0m\u001b[1;33m\u001b[0m\u001b[1;33m\u001b[0m\u001b[0m\n\u001b[1;32m---> 14\u001b[1;33m \u001b[0malgo\u001b[0m\u001b[1;33m(\u001b[0m\u001b[1;33m)\u001b[0m\u001b[1;33m\u001b[0m\u001b[1;33m\u001b[0m\u001b[0m\n\u001b[0m",
      "\u001b[1;32m<ipython-input-65-71d82e0c9b70>\u001b[0m in \u001b[0;36malgo\u001b[1;34m()\u001b[0m\n\u001b[0;32m      1\u001b[0m \u001b[1;32mdef\u001b[0m \u001b[0malgo\u001b[0m\u001b[1;33m(\u001b[0m\u001b[1;33m)\u001b[0m\u001b[1;33m:\u001b[0m\u001b[1;33m\u001b[0m\u001b[1;33m\u001b[0m\u001b[0m\n\u001b[0;32m      2\u001b[0m     \u001b[0mprint\u001b[0m\u001b[1;33m(\u001b[0m\u001b[1;34m\"antes da chamada da função\"\u001b[0m\u001b[1;33m)\u001b[0m\u001b[1;33m\u001b[0m\u001b[1;33m\u001b[0m\u001b[0m\n\u001b[1;32m----> 3\u001b[1;33m     \u001b[0malgo2\u001b[0m\u001b[1;33m(\u001b[0m\u001b[1;33m)\u001b[0m\u001b[1;33m\u001b[0m\u001b[1;33m\u001b[0m\u001b[0m\n\u001b[0m\u001b[0;32m      4\u001b[0m     \u001b[0mprint\u001b[0m\u001b[1;33m(\u001b[0m\u001b[1;34m'depois da chamada da função'\u001b[0m\u001b[1;33m)\u001b[0m\u001b[1;33m\u001b[0m\u001b[1;33m\u001b[0m\u001b[0m\n\u001b[0;32m      5\u001b[0m \u001b[1;33m\u001b[0m\u001b[0m\n",
      "\u001b[1;32m<ipython-input-65-71d82e0c9b70>\u001b[0m in \u001b[0;36malgo2\u001b[1;34m()\u001b[0m\n\u001b[0;32m      5\u001b[0m \u001b[1;33m\u001b[0m\u001b[0m\n\u001b[0;32m      6\u001b[0m \u001b[1;32mdef\u001b[0m \u001b[0malgo2\u001b[0m\u001b[1;33m(\u001b[0m\u001b[1;33m)\u001b[0m\u001b[1;33m:\u001b[0m\u001b[1;33m\u001b[0m\u001b[1;33m\u001b[0m\u001b[0m\n\u001b[1;32m----> 7\u001b[1;33m     \u001b[1;32mraise\u001b[0m \u001b[0mException\u001b[0m\u001b[1;33m(\u001b[0m\u001b[1;34m'exceção em algo2'\u001b[0m\u001b[1;33m)\u001b[0m\u001b[1;33m\u001b[0m\u001b[1;33m\u001b[0m\u001b[0m\n\u001b[0m\u001b[0;32m      8\u001b[0m \u001b[1;33m\u001b[0m\u001b[0m\n\u001b[0;32m      9\u001b[0m \u001b[1;33m\u001b[0m\u001b[0m\n",
      "\u001b[1;31mException\u001b[0m: exceção em algo2"
     ]
    }
   ],
   "source": [
    "# efeitos da exceção\n",
    "def algo():\n",
    "    print(\"antes da chamada da função\")\n",
    "    algo2()\n",
    "    print('depois da chamada da função')\n",
    "\n",
    "def algo2():\n",
    "    raise Exception('exceção em algo2')\n",
    "\n",
    "    \n",
    "# conforme comentando anteriormente ao chamar a funçao algo() a mesma \n",
    "# irá imprimir apenas o primeiro print, pois a função algo2 tem uma \n",
    "# exceção que faz com que a execução do programa pare antes de chamar\n",
    "# o proximo print() --> print('depois da chamada da função')\n",
    "algo()    "
   ]
  },
  {
   "cell_type": "code",
   "execution_count": 74,
   "metadata": {},
   "outputs": [
    {
     "data": {
      "text/plain": [
       "'entre com um numero diferente de zero'"
      ]
     },
     "execution_count": 74,
     "metadata": {},
     "output_type": "execute_result"
    }
   ],
   "source": [
    "# Manipular exceções.\n",
    "\n",
    "def divisao(divisor):\n",
    "    \n",
    "    try: #implementar calculo \n",
    "        return 10 / divisor \n",
    "    except(ZeroDivisionError, TypeError):# se ocorrer uma exceção a função\n",
    "                                         # apresentará a mensagem abaixo.\n",
    "        return \"entre com um numero diferente de zero\"\n",
    "    \n",
    "divisao(0)"
   ]
  },
  {
   "cell_type": "code",
   "execution_count": 82,
   "metadata": {},
   "outputs": [
    {
     "name": "stdout",
     "output_type": "stream",
     "text": [
      "eu pequei uma exceçao\n",
      "executado apos a exceção \n"
     ]
    }
   ],
   "source": [
    "def algo():\n",
    "    raise Exception('exceção')\n",
    "    print('depois do raise') # este print nao será impresso pois está\n",
    "                             # apos a exceção.\n",
    "def algo2():\n",
    "    try:\n",
    "        algo() #chamando a função\n",
    "    except:\n",
    "        print('eu pequei uma exceçao')\n",
    "        print('executado apos a exceção ')\n",
    "        \n",
    "algo2()"
   ]
  },
  {
   "cell_type": "code",
   "execution_count": 81,
   "metadata": {},
   "outputs": [
    {
     "ename": "Exception",
     "evalue": "exceção",
     "output_type": "error",
     "traceback": [
      "\u001b[1;31m---------------------------------------------------------------------------\u001b[0m",
      "\u001b[1;31mException\u001b[0m                                 Traceback (most recent call last)",
      "\u001b[1;32m<ipython-input-81-10359e8cff8e>\u001b[0m in \u001b[0;36m<module>\u001b[1;34m\u001b[0m\n\u001b[1;32m----> 1\u001b[1;33m \u001b[0malgo\u001b[0m\u001b[1;33m(\u001b[0m\u001b[1;33m)\u001b[0m\u001b[1;33m\u001b[0m\u001b[1;33m\u001b[0m\u001b[0m\n\u001b[0m",
      "\u001b[1;32m<ipython-input-79-d9b0550bd5aa>\u001b[0m in \u001b[0;36malgo\u001b[1;34m()\u001b[0m\n\u001b[0;32m      1\u001b[0m \u001b[1;32mdef\u001b[0m \u001b[0malgo\u001b[0m\u001b[1;33m(\u001b[0m\u001b[1;33m)\u001b[0m\u001b[1;33m:\u001b[0m\u001b[1;33m\u001b[0m\u001b[1;33m\u001b[0m\u001b[0m\n\u001b[1;32m----> 2\u001b[1;33m     \u001b[1;32mraise\u001b[0m \u001b[0mException\u001b[0m\u001b[1;33m(\u001b[0m\u001b[1;34m'exceção'\u001b[0m\u001b[1;33m)\u001b[0m\u001b[1;33m\u001b[0m\u001b[1;33m\u001b[0m\u001b[0m\n\u001b[0m\u001b[0;32m      3\u001b[0m     \u001b[0mprint\u001b[0m\u001b[1;33m(\u001b[0m\u001b[1;34m'depois do raise'\u001b[0m\u001b[1;33m)\u001b[0m \u001b[1;31m# este print nao será impresso pois está\u001b[0m\u001b[1;33m\u001b[0m\u001b[1;33m\u001b[0m\u001b[0m\n\u001b[0;32m      4\u001b[0m                              \u001b[1;31m# apos a exceção.\u001b[0m\u001b[1;33m\u001b[0m\u001b[1;33m\u001b[0m\u001b[1;33m\u001b[0m\u001b[0m\n\u001b[0;32m      5\u001b[0m \u001b[1;32mdef\u001b[0m \u001b[0malgo2\u001b[0m\u001b[1;33m(\u001b[0m\u001b[1;33m)\u001b[0m\u001b[1;33m:\u001b[0m\u001b[1;33m\u001b[0m\u001b[1;33m\u001b[0m\u001b[0m\n",
      "\u001b[1;31mException\u001b[0m: exceção"
     ]
    }
   ],
   "source": [
    "algo() # nao imprimiu o print informado após a exceção."
   ]
  },
  {
   "cell_type": "code",
   "execution_count": 96,
   "metadata": {},
   "outputs": [
    {
     "name": "stdout",
     "output_type": "stream",
     "text": [
      "não utilize o numero 13\n",
      "isso sempre será executado\n"
     ]
    },
    {
     "ename": "ValueError",
     "evalue": "13 nao eh legal",
     "output_type": "error",
     "traceback": [
      "\u001b[1;31m---------------------------------------------------------------------------\u001b[0m",
      "\u001b[1;31mValueError\u001b[0m                                Traceback (most recent call last)",
      "\u001b[1;32m<ipython-input-96-6082650fd7e4>\u001b[0m in \u001b[0;36m<module>\u001b[1;34m\u001b[0m\n\u001b[0;32m     17\u001b[0m                                           \u001b[1;31m# é usada para liberar recursos externos.\u001b[0m\u001b[1;33m\u001b[0m\u001b[1;33m\u001b[0m\u001b[1;33m\u001b[0m\u001b[0m\n\u001b[0;32m     18\u001b[0m \u001b[1;33m\u001b[0m\u001b[0m\n\u001b[1;32m---> 19\u001b[1;33m \u001b[0mdivisao\u001b[0m\u001b[1;33m(\u001b[0m\u001b[1;36m13\u001b[0m\u001b[1;33m)\u001b[0m \u001b[1;31m# testando a execeção com numero 13\u001b[0m\u001b[1;33m\u001b[0m\u001b[1;33m\u001b[0m\u001b[0m\n\u001b[0m",
      "\u001b[1;32m<ipython-input-96-6082650fd7e4>\u001b[0m in \u001b[0;36mdivisao\u001b[1;34m(divisor)\u001b[0m\n\u001b[0;32m      3\u001b[0m     \u001b[1;32mtry\u001b[0m\u001b[1;33m:\u001b[0m\u001b[1;33m\u001b[0m\u001b[1;33m\u001b[0m\u001b[0m\n\u001b[0;32m      4\u001b[0m         \u001b[1;32mif\u001b[0m \u001b[0mdivisor\u001b[0m \u001b[1;33m==\u001b[0m\u001b[1;36m13\u001b[0m\u001b[1;33m:\u001b[0m\u001b[1;33m\u001b[0m\u001b[1;33m\u001b[0m\u001b[0m\n\u001b[1;32m----> 5\u001b[1;33m             \u001b[1;32mraise\u001b[0m \u001b[0mValueError\u001b[0m\u001b[1;33m(\u001b[0m\u001b[1;34m'13 nao eh legal'\u001b[0m\u001b[1;33m)\u001b[0m\u001b[1;33m\u001b[0m\u001b[1;33m\u001b[0m\u001b[0m\n\u001b[0m\u001b[0;32m      6\u001b[0m         \u001b[1;32mreturn\u001b[0m \u001b[1;36m10\u001b[0m\u001b[1;33m/\u001b[0m \u001b[0mdivisor\u001b[0m\u001b[1;33m\u001b[0m\u001b[1;33m\u001b[0m\u001b[0m\n\u001b[0;32m      7\u001b[0m     \u001b[1;32mexcept\u001b[0m \u001b[0mZeroDivisionError\u001b[0m\u001b[1;33m:\u001b[0m\u001b[1;33m\u001b[0m\u001b[1;33m\u001b[0m\u001b[0m\n",
      "\u001b[1;31mValueError\u001b[0m: 13 nao eh legal"
     ]
    }
   ],
   "source": [
    "def divisao(divisor):\n",
    "    \n",
    "    try:\n",
    "        if divisor ==13:\n",
    "            raise ValueError('13 nao eh legal')\n",
    "        return 10/ divisor\n",
    "    except ZeroDivisionError:\n",
    "        return \"divisão por zero\"\n",
    "    except TypeError:\n",
    "        return \"Entre com um valor numerico\"\n",
    "    except ValueError:\n",
    "        print('não utilize o numero 13')\n",
    "        raise\n",
    "    finally:\n",
    "        print('isso sempre será executado') # A instrução try no Python pode ter uma finally cláusula opcional .\n",
    "                                          # Esta cláusula é executada independentemente do que for e geralmente\n",
    "                                          # é usada para liberar recursos externos.\n",
    "        \n",
    "divisao(13) # testando a execeção com numero 13"
   ]
  },
  {
   "cell_type": "code",
   "execution_count": 93,
   "metadata": {},
   "outputs": [
    {
     "data": {
      "text/plain": [
       "'Entre com um valor numerico'"
      ]
     },
     "execution_count": 93,
     "metadata": {},
     "output_type": "execute_result"
    }
   ],
   "source": [
    "divisao('python') # testando a execeção com string"
   ]
  },
  {
   "cell_type": "code",
   "execution_count": 92,
   "metadata": {},
   "outputs": [
    {
     "data": {
      "text/plain": [
       "'divisão por zero'"
      ]
     },
     "execution_count": 92,
     "metadata": {},
     "output_type": "execute_result"
    }
   ],
   "source": [
    "divisao(0) #testando a execeção com divisão por \"zero\""
   ]
  },
  {
   "cell_type": "code",
   "execution_count": 110,
   "metadata": {},
   "outputs": [
    {
     "name": "stdout",
     "output_type": "stream",
     "text": [
      "voce nao tem saldo suficiente, falta R$10\n"
     ]
    }
   ],
   "source": [
    "#hierarquia de exceções \n",
    "#(SystemExit, Exception, ValueError...etc) são herdadas de BaseException .\n",
    "\n",
    "#Criando nossas próprias exceções \n",
    "\n",
    "class TransacaoInvalida(Exception):\n",
    "    \n",
    "    def __init__(self, saldo_atual, quantidade):\n",
    "        super().__init__('sua conta nao tem R${}'.format(quantidade))\n",
    "        self.quantidade = quantidade\n",
    "        self.saldo_atual = saldo_atual\n",
    "        \n",
    "    def excesso(self):\n",
    "        return self.quantidade - self.saldo_atual\n",
    "\n",
    "try:\n",
    "    raise TransacaoInvalida(10,20)\n",
    "except TransacaoInvalida as e: # por convenção a variavel exceção é chamado de \"e\"\n",
    "    print('voce nao tem saldo suficiente, falta R${}'.format(e.excesso()))\n",
    "    \n",
    "\n",
    "#\"as\" é usado para criar um alias ao importar um módulo. \n",
    "#Significa dar um nome diferente (definido pelo usuário)\n",
    "#a um módulo enquanto o importa.\n",
    "\n"
   ]
  },
  {
   "cell_type": "code",
   "execution_count": 113,
   "metadata": {},
   "outputs": [],
   "source": [
    "# DRY = Don't  repeat yourself.\n",
    "\n",
    "# Cada parte do conhecimento deve ter uma representação unica, \n",
    "# não ambiguia dentro do sistema\n",
    "\n",
    "# PEP8 - guia de estilo para o codigo python.\n",
    "# https://wiki.python.org.br/GuiaDeEstilo"
   ]
  },
  {
   "cell_type": "code",
   "execution_count": 115,
   "metadata": {},
   "outputs": [],
   "source": [
    "# Estruturas de Dados Built-in\n",
    "\n",
    "# object()  é possivel instancia-lo a uma objeto mas nao é possivel\n",
    "# set uma atributo a ele.\n",
    "\n",
    "# ex:\n",
    "obj = object()"
   ]
  },
  {
   "cell_type": "code",
   "execution_count": 116,
   "metadata": {},
   "outputs": [
    {
     "ename": "TypeError",
     "evalue": "'object' object is not callable",
     "output_type": "error",
     "traceback": [
      "\u001b[1;31m---------------------------------------------------------------------------\u001b[0m",
      "\u001b[1;31mTypeError\u001b[0m                                 Traceback (most recent call last)",
      "\u001b[1;32m<ipython-input-116-18f4176580d9>\u001b[0m in \u001b[0;36m<module>\u001b[1;34m\u001b[0m\n\u001b[1;32m----> 1\u001b[1;33m \u001b[0mobj\u001b[0m\u001b[1;33m(\u001b[0m\u001b[1;36m10\u001b[0m\u001b[1;33m)\u001b[0m\u001b[1;33m\u001b[0m\u001b[1;33m\u001b[0m\u001b[0m\n\u001b[0m",
      "\u001b[1;31mTypeError\u001b[0m: 'object' object is not callable"
     ]
    }
   ],
   "source": [
    "obj(10)"
   ]
  },
  {
   "cell_type": "code",
   "execution_count": 121,
   "metadata": {},
   "outputs": [
    {
     "name": "stdout",
     "output_type": "stream",
     "text": [
      "(1, 2, 4)\n"
     ]
    }
   ],
   "source": [
    "# Tuplas  - estrutura imutável.\n",
    "\n",
    "t = 1,2,4 # ou t = (1,2,3)\n",
    "print(t)"
   ]
  },
  {
   "cell_type": "code",
   "execution_count": 132,
   "metadata": {},
   "outputs": [
    {
     "name": "stdout",
     "output_type": "stream",
     "text": [
      "10\n"
     ]
    }
   ],
   "source": [
    "# Named Tuples  -  estrutura imutável. \n",
    "# ideal para dados somente de leitura (data read only)\n",
    "\n",
    "from collections import namedtuple\n",
    "Estoque = namedtuple('Estoque','x y z')\n",
    "Estoque = Estoque(10,20,30) # ela aceita dois atributos \n",
    "                            # um é o nome da tupla \"Estoque\" e \n",
    "                            # os atributos separados por espaço x y z.\n",
    "        \n",
    "print(Estoque.x) # imprimindo o elemento x da named tuple"
   ]
  },
  {
   "cell_type": "code",
   "execution_count": 128,
   "metadata": {},
   "outputs": [
    {
     "name": "stdout",
     "output_type": "stream",
     "text": [
      "20\n"
     ]
    }
   ],
   "source": [
    "print(Estoque.y) # imprimindo o elemento y da named tuple"
   ]
  },
  {
   "cell_type": "code",
   "execution_count": 131,
   "metadata": {},
   "outputs": [
    {
     "name": "stdout",
     "output_type": "stream",
     "text": [
      "30\n"
     ]
    }
   ],
   "source": [
    "print(Estoque.z)# imprimindo o elemento z da named tuple"
   ]
  },
  {
   "cell_type": "code",
   "execution_count": 138,
   "metadata": {},
   "outputs": [
    {
     "name": "stdout",
     "output_type": "stream",
     "text": [
      "{'marcos': 28, 'joao': 12}\n"
     ]
    }
   ],
   "source": [
    "# dicionário  - deve usar um dicionário sempre que queremos\n",
    "# buscar um valor a partir de uma determinada chave.\n",
    "\n",
    "d = dict()\n",
    "d['marcos'] = 28\n",
    "d['joao'] = 12\n",
    "print(d)"
   ]
  },
  {
   "cell_type": "code",
   "execution_count": 141,
   "metadata": {},
   "outputs": [
    {
     "name": "stdout",
     "output_type": "stream",
     "text": [
      "{'marcos': 28, 'joao': 20}\n"
     ]
    }
   ],
   "source": [
    "d = {'marcos':28,'joao':20}  # este formato é o mais utilizado\n",
    "print(d) "
   ]
  },
  {
   "cell_type": "code",
   "execution_count": 142,
   "metadata": {},
   "outputs": [
    {
     "data": {
      "text/plain": [
       "28"
      ]
     },
     "execution_count": 142,
     "metadata": {},
     "output_type": "execute_result"
    }
   ],
   "source": [
    "d.get('marcos') # Este método retorna o valor para a chave especificada"
   ]
  },
  {
   "cell_type": "code",
   "execution_count": 148,
   "metadata": {},
   "outputs": [
    {
     "data": {
      "text/plain": [
       "dict_keys(['marcos', 'joao'])"
      ]
     },
     "execution_count": 148,
     "metadata": {},
     "output_type": "execute_result"
    }
   ],
   "source": [
    "d.keys() # retorna um objeto de exibição que\n",
    "         # exibe uma lista de todas as chaves no dicionário."
   ]
  },
  {
   "cell_type": "code",
   "execution_count": null,
   "metadata": {},
   "outputs": [],
   "source": []
  }
 ],
 "metadata": {
  "kernelspec": {
   "display_name": "Python 3",
   "language": "python",
   "name": "python3"
  },
  "language_info": {
   "codemirror_mode": {
    "name": "ipython",
    "version": 3
   },
   "file_extension": ".py",
   "mimetype": "text/x-python",
   "name": "python",
   "nbconvert_exporter": "python",
   "pygments_lexer": "ipython3",
   "version": "3.7.1"
  }
 },
 "nbformat": 4,
 "nbformat_minor": 2
}
